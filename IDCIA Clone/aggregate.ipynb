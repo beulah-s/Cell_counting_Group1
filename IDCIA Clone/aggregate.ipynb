{
 "cells": [
  {
   "cell_type": "code",
   "execution_count": 3,
   "metadata": {
    "collapsed": true
   },
   "outputs": [],
   "source": [
    "import tensorboard_reducer as tbr\n",
    "import shutil\n",
    "from glob import glob"
   ]
  },
  {
   "cell_type": "code",
   "execution_count": 4,
   "outputs": [
    {
     "name": "stdout",
     "output_type": "stream",
     "text": [
      "Found 12 runs:\n",
      "lightning_logs\\version_0\n",
      "lightning_logs\\version_1\n",
      "lightning_logs\\version_10\n",
      "lightning_logs\\version_11\n",
      "lightning_logs\\version_2\n",
      "lightning_logs\\version_3\n",
      "lightning_logs\\version_4\n",
      "lightning_logs\\version_5\n",
      "lightning_logs\\version_6\n",
      "lightning_logs\\version_7\n",
      "lightning_logs\\version_8\n",
      "lightning_logs\\version_9\n"
     ]
    }
   ],
   "source": [
    "input_event_dir=sorted(glob(\"lightning_logs/*\"))\n",
    "joined_dirs=\"\\n\".join(input_event_dir)\n",
    "print(f\"Found {len(input_event_dir)} runs:\\n{joined_dirs}\")"
   ],
   "metadata": {
    "collapsed": false
   }
  },
  {
   "cell_type": "code",
   "execution_count": 5,
   "outputs": [
    {
     "data": {
      "text/plain": "'lightning_logs\\\\version_0\\nlightning_logs\\\\version_1\\nlightning_logs\\\\version_10\\nlightning_logs\\\\version_11\\nlightning_logs\\\\version_2\\nlightning_logs\\\\version_3\\nlightning_logs\\\\version_4\\nlightning_logs\\\\version_5\\nlightning_logs\\\\version_6\\nlightning_logs\\\\version_7\\nlightning_logs\\\\version_8\\nlightning_logs\\\\version_9'"
     },
     "execution_count": 5,
     "metadata": {},
     "output_type": "execute_result"
    }
   ],
   "source": [
    "joined_dirs"
   ],
   "metadata": {
    "collapsed": false
   }
  },
  {
   "cell_type": "code",
   "execution_count": 14,
   "outputs": [],
   "source": [
    "del input_event_dir[0]\n"
   ],
   "metadata": {
    "collapsed": false
   }
  },
  {
   "cell_type": "code",
   "execution_count": 15,
   "outputs": [
    {
     "data": {
      "text/plain": "['lightning_logs\\\\version_1',\n 'lightning_logs\\\\version_10',\n 'lightning_logs\\\\version_11',\n 'lightning_logs\\\\version_2',\n 'lightning_logs\\\\version_3',\n 'lightning_logs\\\\version_4',\n 'lightning_logs\\\\version_5',\n 'lightning_logs\\\\version_6',\n 'lightning_logs\\\\version_7',\n 'lightning_logs\\\\version_8',\n 'lightning_logs\\\\version_9']"
     },
     "execution_count": 15,
     "metadata": {},
     "output_type": "execute_result"
    }
   ],
   "source": [
    "input_event_dir"
   ],
   "metadata": {
    "collapsed": false
   }
  },
  {
   "cell_type": "code",
   "execution_count": 16,
   "outputs": [],
   "source": [
    "del input_event_dir[3:8]"
   ],
   "metadata": {
    "collapsed": false
   }
  },
  {
   "cell_type": "code",
   "execution_count": 17,
   "outputs": [
    {
     "data": {
      "text/plain": "['lightning_logs\\\\version_1',\n 'lightning_logs\\\\version_10',\n 'lightning_logs\\\\version_11',\n 'lightning_logs\\\\version_7',\n 'lightning_logs\\\\version_8',\n 'lightning_logs\\\\version_9']"
     },
     "execution_count": 17,
     "metadata": {},
     "output_type": "execute_result"
    }
   ],
   "source": [
    "input_event_dir"
   ],
   "metadata": {
    "collapsed": false
   }
  },
  {
   "cell_type": "code",
   "execution_count": 18,
   "outputs": [],
   "source": [
    "del input_event_dir[0]"
   ],
   "metadata": {
    "collapsed": false
   }
  },
  {
   "cell_type": "code",
   "execution_count": 23,
   "outputs": [
    {
     "name": "stdout",
     "output_type": "stream",
     "text": [
      "Loaded 5 TensorBoard runs with 6 scalar(s) and 1 steps each:\n",
      "{'hp_metric':       value  value  value  value  value\n",
      "step                                   \n",
      "0      -1.0   -1.0   -1.0   -1.0   -1.0, 'lr-Adam':              value         value         value         value         value\n",
      "step                                                                      \n",
      "0     1.000000e-03  1.000000e-03  1.000000e-03  1.000000e-03  1.000000e-03\n",
      "10    1.000000e-03  1.000000e-03  1.000000e-03  1.000000e-03  1.000000e-03\n",
      "20    1.000000e-03  1.000000e-03  1.000000e-03  1.000000e-03  1.000000e-03\n",
      "30    1.000000e-03  1.000000e-03  1.000000e-03  1.000000e-03  1.000000e-03\n",
      "40    1.000000e-03  1.000000e-03  1.000000e-03  1.000000e-03  1.000000e-03\n",
      "...            ...           ...           ...           ...           ...\n",
      "1950  1.000000e-08  1.000000e-08  1.000000e-08  1.000000e-08  1.000000e-08\n",
      "1960  1.000000e-08  1.000000e-08  1.000000e-08  1.000000e-08  1.000000e-08\n",
      "1970  1.000000e-08  1.000000e-08  1.000000e-08  1.000000e-08  1.000000e-08\n",
      "1980  1.000000e-08  1.000000e-08  1.000000e-08  1.000000e-08  1.000000e-08\n",
      "1990  1.000000e-08  1.000000e-08  1.000000e-08  1.000000e-08  1.000000e-08\n",
      "\n",
      "[200 rows x 5 columns], 'train_loss':           value      value      value      value      value\n",
      "step                                                       \n",
      "6     72.264320  71.061935  72.862488  71.556175  70.104332\n",
      "13    63.934399  65.246582  63.532372  66.320160  66.391357\n",
      "20    82.339043  81.371971  82.867233  81.292374  79.449471\n",
      "27    32.855186  31.752792  32.796021  31.976791  32.624535\n",
      "34    37.335331  37.256611  37.834553  40.015499  35.872009\n",
      "...         ...        ...        ...        ...        ...\n",
      "1966  33.315334  40.128731  31.154671  32.763107  30.885624\n",
      "1973  54.384956  55.000263  54.295029  54.152134  56.691811\n",
      "1980  29.403065  30.187746  28.323093  29.085157  26.604553\n",
      "1987  36.463322  35.990082  36.677834  35.295189  36.339611\n",
      "1994  30.902092  33.246319  30.235279  31.232052  29.880171\n",
      "\n",
      "[285 rows x 5 columns], 'epoch':       value  value  value  value  value\n",
      "step                                   \n",
      "6       0.0    0.0    0.0    0.0    0.0\n",
      "9       0.0    0.0    0.0    0.0    0.0\n",
      "13      1.0    1.0    1.0    1.0    1.0\n",
      "19      1.0    1.0    1.0    1.0    1.0\n",
      "20      2.0    2.0    2.0    2.0    2.0\n",
      "...     ...    ...    ...    ...    ...\n",
      "1987  198.0  198.0  198.0  198.0  198.0\n",
      "1989  198.0  198.0  198.0  198.0  198.0\n",
      "1994  199.0  199.0  199.0  199.0  199.0\n",
      "1999  199.0  199.0  199.0  199.0  199.0\n",
      "2000  200.0  200.0  200.0  200.0  200.0\n",
      "\n",
      "[458 rows x 5 columns], 'validation_loss':           value      value      value      value      value\n",
      "step                                                       \n",
      "9     95.969559  95.651016  96.080330  95.580048  95.373077\n",
      "19    87.071526  83.712341  87.529907  84.731010  81.617821\n",
      "29    69.279709  69.905090  69.802521  70.491821  69.573982\n",
      "39    62.697540  59.316887  64.743866  61.374775  57.500423\n",
      "49    55.119068  54.864693  54.445259  56.162872  52.993137\n",
      "...         ...        ...        ...        ...        ...\n",
      "1959  31.972776  33.543652  32.817131  32.709026  33.444485\n",
      "1969  32.248642  32.833954  32.788895  32.922203  34.027561\n",
      "1979  31.725294  32.784130  32.382080  32.586166  33.590004\n",
      "1989  33.249741  34.385216  33.888824  34.136429  34.882690\n",
      "1999  32.332436  34.297623  32.622662  32.988644  33.493542\n",
      "\n",
      "[200 rows x 5 columns], 'test_loss':          value     value    value     value     value\n",
      "step                                                 \n",
      "2000  5.789825  6.066321  5.89005  5.889583  5.508192}\n"
     ]
    }
   ],
   "source": [
    "events_out_dir = \"tmp/reduced\"\n",
    "csv_out_path = \"tmp/tb-reduction.csv\"\n",
    "overwrite = True\n",
    "reduce_ops = (\"mean\", \"min\", \"max\")\n",
    "\n",
    "events_dict = tbr.load_tb_events(input_event_dir,handle_dup_steps='keep-last')\n",
    "\n",
    "n_scalars = len(events_dict)\n",
    "n_steps, n_events = list(events_dict.values())[0].shape\n",
    "\n",
    "print(\n",
    "    f\"Loaded {n_events} TensorBoard runs with {n_scalars} scalar(s) \"\n",
    "    f\"and {n_steps} steps each:\\n{events_dict}\"\n",
    ")"
   ],
   "metadata": {
    "collapsed": false
   }
  },
  {
   "cell_type": "code",
   "execution_count": 24,
   "outputs": [
    {
     "name": "stdout",
     "output_type": "stream",
     "text": [
      "Writing 'mean' reduction to 'tmp/reduced-mean'\n",
      "Writing 'min' reduction to 'tmp/reduced-min'\n",
      "Writing 'max' reduction to 'tmp/reduced-max'\n",
      "Writing results to 'tmp/tb-reduction.csv'\n",
      "✓ Reduction complete\n"
     ]
    }
   ],
   "source": [
    "reduced_events = tbr.reduce_events(events_dict, reduce_ops)\n",
    "\n",
    "for op in reduce_ops:\n",
    "    print(f\"Writing '{op}' reduction to '{events_out_dir}-{op}'\")\n",
    "\n",
    "tbr.write_tb_events(reduced_events, events_out_dir, overwrite)\n",
    "\n",
    "print(f\"Writing results to '{csv_out_path}'\")\n",
    "\n",
    "tbr.write_data_file(reduced_events, csv_out_path, overwrite)\n",
    "\n",
    "print(\"✓ Reduction complete\")"
   ],
   "metadata": {
    "collapsed": false
   }
  },
  {
   "cell_type": "code",
   "execution_count": 25,
   "outputs": [],
   "source": [
    "# clean up\n",
    "shutil.rmtree(\"tmp\")"
   ],
   "metadata": {
    "collapsed": false
   }
  },
  {
   "cell_type": "code",
   "execution_count": null,
   "outputs": [],
   "source": [],
   "metadata": {
    "collapsed": false
   }
  }
 ],
 "metadata": {
  "kernelspec": {
   "display_name": "Python 3",
   "language": "python",
   "name": "python3"
  },
  "language_info": {
   "codemirror_mode": {
    "name": "ipython",
    "version": 2
   },
   "file_extension": ".py",
   "mimetype": "text/x-python",
   "name": "python",
   "nbconvert_exporter": "python",
   "pygments_lexer": "ipython2",
   "version": "2.7.6"
  }
 },
 "nbformat": 4,
 "nbformat_minor": 0
}
