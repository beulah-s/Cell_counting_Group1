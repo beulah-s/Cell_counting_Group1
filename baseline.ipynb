{
  "nbformat": 4,
  "nbformat_minor": 0,
  "metadata": {
    "colab": {
      "provenance": [],
      "gpuType": "T4",
      "include_colab_link": true
    },
    "kernelspec": {
      "name": "python3",
      "display_name": "Python 3"
    },
    "language_info": {
      "name": "python"
    },
    "accelerator": "GPU"
  },
  "cells": [
    {
      "cell_type": "markdown",
      "metadata": {
        "id": "view-in-github",
        "colab_type": "text"
      },
      "source": [
        "<a href=\"https://colab.research.google.com/github/beulah-s/Cell_counting_Group1/blob/main/baseline.ipynb\" target=\"_parent\"><img src=\"https://colab.research.google.com/assets/colab-badge.svg\" alt=\"Open In Colab\"/></a>"
      ]
    },
    {
      "cell_type": "code",
      "execution_count": null,
      "metadata": {
        "colab": {
          "base_uri": "https://localhost:8080/"
        },
        "id": "7Rfcq-2dIgk8",
        "outputId": "05e2742a-3d89-46ed-e14d-6062fa47ca03"
      },
      "outputs": [
        {
          "output_type": "stream",
          "name": "stdout",
          "text": [
            "Mounted at /content/drive\n"
          ]
        }
      ],
      "source": [
        "from google.colab import drive\n",
        "drive.mount('/content/drive')"
      ]
    },
    {
      "cell_type": "code",
      "source": [
        "!pip install opencv-python\n"
      ],
      "metadata": {
        "colab": {
          "base_uri": "https://localhost:8080/"
        },
        "id": "LXNC-87sOA9y",
        "outputId": "46da2191-0a11-4f74-bee7-1fc04e56a8f1"
      },
      "execution_count": null,
      "outputs": [
        {
          "output_type": "stream",
          "name": "stdout",
          "text": [
            "Requirement already satisfied: opencv-python in /usr/local/lib/python3.10/dist-packages (4.8.0.76)\n",
            "Requirement already satisfied: numpy>=1.21.2 in /usr/local/lib/python3.10/dist-packages (from opencv-python) (1.23.5)\n"
          ]
        }
      ]
    },
    {
      "cell_type": "code",
      "source": [
        "import cv2\n",
        "import os\n",
        "import pandas as pd\n",
        "import numpy as np\n",
        "import torch\n",
        "import torchvision\n",
        "import matplotlib.pyplot as plt\n",
        "import torchvision.transforms as transforms\n",
        "from torch.utils.data import DataLoader\n",
        "from PIL import Image\n",
        "from torch.utils.data import Dataset\n"
      ],
      "metadata": {
        "id": "cVRrFosLI-p_"
      },
      "execution_count": null,
      "outputs": []
    },
    {
      "cell_type": "code",
      "source": [
        "data_root = 'path'\n",
        "print('The num of images is', len(os.listdir(data_root)))\n",
        "\n",
        "label_path = 'path'\n",
        "all_files = os.listdir(label_path)\n",
        "csv_files = [f for f in all_files if f.endswith('.csv')]\n",
        "\n",
        "labels = []\n",
        "\n",
        "for csv_file in csv_files:\n",
        "    csv_path = os.path.join(label_path, csv_file)\n",
        "    df = pd.read_csv(csv_path)\n",
        "    num_cells = df.shape[0]  # Number of cells\n",
        "    labels.append(num_cells)\n"
      ],
      "metadata": {
        "colab": {
          "base_uri": "https://localhost:8080/"
        },
        "id": "jxaFtiBQI35C",
        "outputId": "24417bee-5129-4d63-b1b2-23864e6def1f"
      },
      "execution_count": null,
      "outputs": [
        {
          "output_type": "stream",
          "name": "stdout",
          "text": [
            "The num of images is 251\n"
          ]
        }
      ]
    },
    {
      "cell_type": "code",
      "source": [
        "class CellDataset(Dataset):\n",
        "    def __init__(self, root_dir, labels, transform=None):\n",
        "        self.root_dir = root_dir\n",
        "        self.labels = labels\n",
        "        self.image_files = [f for f in os.listdir(root_dir) if f.endswith('.tiff')]\n",
        "        self.transform = transform\n",
        "\n",
        "    def __len__(self):\n",
        "        return len(self.image_files)\n",
        "\n",
        "    def __getitem__(self, idx):\n",
        "        img_name = os.path.join(self.root_dir, self.image_files[idx])\n",
        "        image = Image.open(img_name)\n",
        "\n",
        "        if self.transform:\n",
        "            image = self.transform(image)\n",
        "\n",
        "        label = self.labels[idx]\n",
        "\n",
        "        return image, label\n",
        "\n",
        "\n",
        "\n",
        "def plot_cell(dataset, sample_id):\n",
        "    \"\"\"Displays the image corresponding to the sample ID\"\"\"\n",
        "    image = dataset[sample_id][0]\n",
        "    image = image.numpy().transpose((1, 2, 0))\n",
        "    plt.imshow(image)\n",
        "    plt.axis('off')\n",
        "    plt.show()\n",
        "\n",
        "def high_pass_filter_pil(img, kernel_size=11):\n",
        "    img_np = np.array(img)\n",
        "\n",
        "    # use low pass\n",
        "    low_pass = cv2.GaussianBlur(img_np, (kernel_size, kernel_size), 0)\n",
        "\n",
        "    # low pass filter\n",
        "    high_pass = cv2.subtract(img_np, low_pass)\n",
        "\n",
        "    return Image.fromarray(high_pass)\n",
        "\n"
      ],
      "metadata": {
        "id": "Wlc3-Tz-JUzq"
      },
      "execution_count": null,
      "outputs": []
    },
    {
      "cell_type": "code",
      "source": [
        "\n",
        "transform = transforms.Compose([\n",
        "    transforms.Resize((96, 96)),\n",
        "    # transforms.Lambda(high_pass_filter_pil),\n",
        "    # Resize the image to 64x64 pixels\n",
        "    transforms.ToTensor(),  # Convert PIL Image to Tensor\n",
        "#     transforms.RandomRotation(15),  # Randomly rotate the image by up to 30 degrees\n",
        "#     transforms.RandomAffine(degrees=15, shear=15),  # Randomly distort the image\n",
        "])\n",
        "\n",
        "# transform = transforms.Compose([\n",
        "#     # transforms.Resize((64, 64)),  # Resize the image to 64x64 pixels\n",
        "#     transforms.ToTensor(),  # Convert PIL Image to Tensor\n",
        "# ])\n",
        "\n",
        "# Construct the dataset\n",
        "dataset = CellDataset(root_dir=data_root, labels=labels, transform=transform)\n"
      ],
      "metadata": {
        "id": "TPcwD7xaMpEj"
      },
      "execution_count": null,
      "outputs": []
    },
    {
      "cell_type": "code",
      "source": [
        "dataset"
      ],
      "metadata": {
        "colab": {
          "base_uri": "https://localhost:8080/"
        },
        "id": "B4dVSIX4HcIG",
        "outputId": "c6c34f33-ce65-45b4-99e8-64871262b27d"
      },
      "execution_count": null,
      "outputs": [
        {
          "output_type": "execute_result",
          "data": {
            "text/plain": [
              "<__main__.CellDataset at 0x78f9767cdf30>"
            ]
          },
          "metadata": {},
          "execution_count": 35
        }
      ]
    },
    {
      "cell_type": "code",
      "source": [
        "from sklearn.model_selection import train_test_split\n",
        "\n",
        "test_percent = 0.3\n",
        "trainset, testset = train_test_split(dataset, test_size=test_percent, random_state=42)\n",
        "\n",
        "print(len(trainset))\n",
        "print(len(testset))"
      ],
      "metadata": {
        "colab": {
          "base_uri": "https://localhost:8080/"
        },
        "id": "mmYUUCQxC9BA",
        "outputId": "01ab0140-a812-4595-e6e2-ed0376f366b9"
      },
      "execution_count": null,
      "outputs": [
        {
          "output_type": "stream",
          "name": "stdout",
          "text": [
            "175\n",
            "75\n"
          ]
        }
      ]
    },
    {
      "cell_type": "code",
      "source": [
        "first_img = dataset[0][0][0]\n",
        "\n",
        "print(first_img)\n",
        "print(first_img.shape)\n",
        "plot_cell(dataset,0)"
      ],
      "metadata": {
        "colab": {
          "base_uri": "https://localhost:8080/",
          "height": 545
        },
        "id": "nmOQlXPU-6tz",
        "outputId": "e46927dd-7d60-435c-ac7f-839016a5602d"
      },
      "execution_count": null,
      "outputs": [
        {
          "output_type": "stream",
          "name": "stdout",
          "text": [
            "tensor([[0.0314, 0.0392, 0.0431,  ..., 0.0431, 0.0431, 0.0431],\n",
            "        [0.0392, 0.0431, 0.0431,  ..., 0.0431, 0.0431, 0.0431],\n",
            "        [0.0431, 0.0431, 0.0431,  ..., 0.0431, 0.0431, 0.0431],\n",
            "        ...,\n",
            "        [0.0549, 0.0471, 0.0431,  ..., 0.0392, 0.0392, 0.0392],\n",
            "        [0.0980, 0.0667, 0.0431,  ..., 0.0392, 0.0353, 0.0392],\n",
            "        [0.1294, 0.0824, 0.0431,  ..., 0.0353, 0.0353, 0.0353]])\n",
            "torch.Size([96, 96])\n"
          ]
        },
        {
          "output_type": "display_data",
          "data": {
            "text/plain": [
              "<Figure size 640x480 with 1 Axes>"
            ],
            "image/png": "[encoded data removed]"
          },
          "metadata": {}
        }
      ]
    },
    {
      "cell_type": "code",
      "source": [
        "first_img = dataset[0][0][0]\n",
        "\n",
        "print(first_img)\n",
        "print(first_img.shape)\n",
        "plot_cell(dataset,0)"
      ],
      "metadata": {
        "colab": {
          "base_uri": "https://localhost:8080/",
          "height": 545
        },
        "id": "2rqyQmi-I10X",
        "outputId": "804aad45-9db3-40b4-a6f7-f7743e329ae0"
      },
      "execution_count": null,
      "outputs": [
        {
          "output_type": "stream",
          "name": "stdout",
          "text": [
            "tensor([[0.0314, 0.0392, 0.0431,  ..., 0.0431, 0.0431, 0.0431],\n",
            "        [0.0392, 0.0431, 0.0431,  ..., 0.0431, 0.0431, 0.0431],\n",
            "        [0.0431, 0.0431, 0.0431,  ..., 0.0431, 0.0431, 0.0431],\n",
            "        ...,\n",
            "        [0.0549, 0.0471, 0.0431,  ..., 0.0392, 0.0392, 0.0392],\n",
            "        [0.0980, 0.0667, 0.0431,  ..., 0.0392, 0.0353, 0.0392],\n",
            "        [0.1294, 0.0824, 0.0431,  ..., 0.0353, 0.0353, 0.0353]])\n",
            "torch.Size([96, 96])\n"
          ]
        },
        {
          "output_type": "display_data",
          "data": {
            "text/plain": [
              "<Figure size 640x480 with 1 Axes>"
            ],
            "image/png": "[encoded data removed]"
          },
          "metadata": {}
        }
      ]
    },
    {
      "cell_type": "code",
      "source": [
        "#@title Define ResNet/VGG/MobileNet-V2\n",
        "import torch\n",
        "import torch.nn as nn\n",
        "import torchvision\n",
        "import torch.nn.functional as F\n",
        "# import tensorflow as tf\n",
        "import os\n",
        "\n",
        "\n",
        "class BasicBlock(nn.Module):\n",
        "    expansion = 1\n",
        "\n",
        "    def __init__(self, in_planes, planes, stride=1):\n",
        "        super(BasicBlock, self).__init__()\n",
        "        self.conv1 = nn.Conv2d(\n",
        "            in_planes, planes, kernel_size=3, stride=stride, padding=1, bias=False)\n",
        "        self.bn1 = nn.BatchNorm2d(planes)\n",
        "        self.conv2 = nn.Conv2d(planes, planes, kernel_size=3,\n",
        "                               stride=1, padding=1, bias=False)\n",
        "        self.bn2 = nn.BatchNorm2d(planes)\n",
        "\n",
        "        self.shortcut = nn.Sequential()\n",
        "        if stride != 1 or in_planes != self.expansion*planes:\n",
        "            self.shortcut = nn.Sequential(\n",
        "                nn.Conv2d(in_planes, self.expansion*planes,\n",
        "                          kernel_size=1, stride=stride, bias=False),\n",
        "                nn.BatchNorm2d(self.expansion*planes)\n",
        "            )\n",
        "\n",
        "    def forward(self, x):\n",
        "        out = F.relu(self.bn1(self.conv1(x)))\n",
        "        out = self.bn2(self.conv2(out))\n",
        "        out += self.shortcut(x)\n",
        "        out = F.relu(out)\n",
        "        return out\n",
        "\n",
        "\n",
        "class Bottleneck(nn.Module):\n",
        "    expansion = 4\n",
        "\n",
        "    def __init__(self, in_planes, planes, stride=1):\n",
        "        super(Bottleneck, self).__init__()\n",
        "        self.conv1 = nn.Conv2d(in_planes, planes, kernel_size=1, bias=False)\n",
        "        self.bn1 = nn.BatchNorm2d(planes)\n",
        "        self.conv2 = nn.Conv2d(planes, planes, kernel_size=3,\n",
        "                               stride=stride, padding=1, bias=False)\n",
        "        self.bn2 = nn.BatchNorm2d(planes)\n",
        "        self.conv3 = nn.Conv2d(planes, self.expansion *\n",
        "                               planes, kernel_size=1, bias=False)\n",
        "        self.bn3 = nn.BatchNorm2d(self.expansion*planes)\n",
        "\n",
        "        self.shortcut = nn.Sequential()\n",
        "        if stride != 1 or in_planes != self.expansion*planes:\n",
        "            self.shortcut = nn.Sequential(\n",
        "                nn.Conv2d(in_planes, self.expansion*planes,\n",
        "                          kernel_size=1, stride=stride, bias=False),\n",
        "                nn.BatchNorm2d(self.expansion*planes)\n",
        "            )\n",
        "\n",
        "    def forward(self, x):\n",
        "        out = F.relu(self.bn1(self.conv1(x)))\n",
        "        out = F.relu(self.bn2(self.conv2(out)))\n",
        "        out = self.bn3(self.conv3(out))\n",
        "        out += self.shortcut(x)\n",
        "        out = F.relu(out)\n",
        "        return out\n",
        "\n",
        "class ResNet(nn.Module):\n",
        "    def __init__(self, block, num_blocks, num_classes=1):  # modified num_classes default to 1\n",
        "        super(ResNet, self).__init__()\n",
        "        self.in_planes = 64\n",
        "\n",
        "        self.conv1 = nn.Conv2d(1, 64, kernel_size=3,\n",
        "                               stride=1, padding=1, bias=False)\n",
        "        self.bn1 = nn.BatchNorm2d(64)\n",
        "        self.layer1 = self._make_layer(block, 64, num_blocks[0], stride=1)\n",
        "        self.layer2 = self._make_layer(block, 128, num_blocks[1], stride=2)\n",
        "        self.layer3 = self._make_layer(block, 256, num_blocks[2], stride=2)\n",
        "        self.layer4 = self._make_layer(block, 512, num_blocks[3], stride=2)\n",
        "        self.linear = nn.Linear(512*block.expansion, 1)  # modified num_classes to 1\n",
        "\n",
        "    def _make_layer(self, block, planes, num_blocks, stride):\n",
        "        strides = [stride] + [1]*(num_blocks-1)\n",
        "        layers = []\n",
        "        for stride in strides:\n",
        "            layers.append(block(self.in_planes, planes, stride))\n",
        "            self.in_planes = planes * block.expansion\n",
        "        return nn.Sequential(*layers)\n",
        "\n",
        "    def forward(self, x):\n",
        "        out = F.relu(self.bn1(self.conv1(x)))\n",
        "        out = self.layer1(out)\n",
        "        out = self.layer2(out)\n",
        "        out = self.layer3(out)\n",
        "        out = self.layer4(out)\n",
        "\n",
        "        batch_size = out.shape[0]\n",
        "        out = F.adaptive_avg_pool2d(out, (1, 1))\n",
        "        out = out.view(batch_size, -1)\n",
        "        out = self.linear(out)\n",
        "        return out\n",
        "\n",
        "\n",
        "\n",
        "class Block(nn.Module):\n",
        "    '''expand + depthwise + pointwise'''\n",
        "    def __init__(self, in_planes, out_planes, expansion, stride):\n",
        "        super(Block, self).__init__()\n",
        "        self.stride = stride\n",
        "\n",
        "        planes = expansion * in_planes\n",
        "        self.conv1 = nn.Conv2d(in_planes, planes, kernel_size=1, stride=1, padding=0, bias=False)\n",
        "        self.bn1 = nn.BatchNorm2d(planes)\n",
        "        self.conv2 = nn.Conv2d(planes, planes, kernel_size=3, stride=stride, padding=1, groups=planes, bias=False)\n",
        "        self.bn2 = nn.BatchNorm2d(planes)\n",
        "        self.conv3 = nn.Conv2d(planes, out_planes, kernel_size=1, stride=1, padding=0, bias=False)\n",
        "        self.bn3 = nn.BatchNorm2d(out_planes)\n",
        "\n",
        "        self.shortcut = nn.Sequential()\n",
        "        if stride == 1 and in_planes != out_planes:\n",
        "            self.shortcut = nn.Sequential(\n",
        "                nn.Conv2d(in_planes, out_planes, kernel_size=1, stride=1, padding=0, bias=False),\n",
        "                nn.BatchNorm2d(out_planes),\n",
        "            )\n",
        "\n",
        "    def forward(self, x):\n",
        "        out = F.relu(self.bn1(self.conv1(x)))\n",
        "        out = F.relu(self.bn2(self.conv2(out)))\n",
        "        out = self.bn3(self.conv3(out))\n",
        "        out = out + self.shortcut(x) if self.stride==1 else out\n",
        "        return out\n",
        "\n",
        "\n",
        "def ResNet18():\n",
        "    return ResNet(BasicBlock, [2, 2, 2, 2])  # removed num_classes argument\n",
        "\n",
        "\n",
        "\n",
        "\n",
        "\n",
        "\n"
      ],
      "metadata": {
        "id": "spe0Hty30h2_"
      },
      "execution_count": null,
      "outputs": []
    },
    {
      "cell_type": "code",
      "source": [
        "model = ResNet18().cuda()"
      ],
      "metadata": {
        "id": "rwrfqYnyzF7X"
      },
      "execution_count": null,
      "outputs": []
    },
    {
      "cell_type": "code",
      "source": [
        "model"
      ],
      "metadata": {
        "id": "XknQvpNTzG8H",
        "colab": {
          "base_uri": "https://localhost:8080/"
        },
        "outputId": "3a3d8f1d-c142-47a5-dcad-547a5355d43d"
      },
      "execution_count": null,
      "outputs": [
        {
          "output_type": "execute_result",
          "data": {
            "text/plain": [
              "ResNet(\n",
              "  (conv1): Conv2d(1, 64, kernel_size=(3, 3), stride=(1, 1), padding=(1, 1), bias=False)\n",
              "  (bn1): BatchNorm2d(64, eps=1e-05, momentum=0.1, affine=True, track_running_stats=True)\n",
              "  (layer1): Sequential(\n",
              "    (0): BasicBlock(\n",
              "      (conv1): Conv2d(64, 64, kernel_size=(3, 3), stride=(1, 1), padding=(1, 1), bias=False)\n",
              "      (bn1): BatchNorm2d(64, eps=1e-05, momentum=0.1, affine=True, track_running_stats=True)\n",
              "      (conv2): Conv2d(64, 64, kernel_size=(3, 3), stride=(1, 1), padding=(1, 1), bias=False)\n",
              "      (bn2): BatchNorm2d(64, eps=1e-05, momentum=0.1, affine=True, track_running_stats=True)\n",
              "      (shortcut): Sequential()\n",
              "    )\n",
              "    (1): BasicBlock(\n",
              "      (conv1): Conv2d(64, 64, kernel_size=(3, 3), stride=(1, 1), padding=(1, 1), bias=False)\n",
              "      (bn1): BatchNorm2d(64, eps=1e-05, momentum=0.1, affine=True, track_running_stats=True)\n",
              "      (conv2): Conv2d(64, 64, kernel_size=(3, 3), stride=(1, 1), padding=(1, 1), bias=False)\n",
              "      (bn2): BatchNorm2d(64, eps=1e-05, momentum=0.1, affine=True, track_running_stats=True)\n",
              "      (shortcut): Sequential()\n",
              "    )\n",
              "  )\n",
              "  (layer2): Sequential(\n",
              "    (0): BasicBlock(\n",
              "      (conv1): Conv2d(64, 128, kernel_size=(3, 3), stride=(2, 2), padding=(1, 1), bias=False)\n",
              "      (bn1): BatchNorm2d(128, eps=1e-05, momentum=0.1, affine=True, track_running_stats=True)\n",
              "      (conv2): Conv2d(128, 128, kernel_size=(3, 3), stride=(1, 1), padding=(1, 1), bias=False)\n",
              "      (bn2): BatchNorm2d(128, eps=1e-05, momentum=0.1, affine=True, track_running_stats=True)\n",
              "      (shortcut): Sequential(\n",
              "        (0): Conv2d(64, 128, kernel_size=(1, 1), stride=(2, 2), bias=False)\n",
              "        (1): BatchNorm2d(128, eps=1e-05, momentum=0.1, affine=True, track_running_stats=True)\n",
              "      )\n",
              "    )\n",
              "    (1): BasicBlock(\n",
              "      (conv1): Conv2d(128, 128, kernel_size=(3, 3), stride=(1, 1), padding=(1, 1), bias=False)\n",
              "      (bn1): BatchNorm2d(128, eps=1e-05, momentum=0.1, affine=True, track_running_stats=True)\n",
              "      (conv2): Conv2d(128, 128, kernel_size=(3, 3), stride=(1, 1), padding=(1, 1), bias=False)\n",
              "      (bn2): BatchNorm2d(128, eps=1e-05, momentum=0.1, affine=True, track_running_stats=True)\n",
              "      (shortcut): Sequential()\n",
              "    )\n",
              "  )\n",
              "  (layer3): Sequential(\n",
              "    (0): BasicBlock(\n",
              "      (conv1): Conv2d(128, 256, kernel_size=(3, 3), stride=(2, 2), padding=(1, 1), bias=False)\n",
              "      (bn1): BatchNorm2d(256, eps=1e-05, momentum=0.1, affine=True, track_running_stats=True)\n",
              "      (conv2): Conv2d(256, 256, kernel_size=(3, 3), stride=(1, 1), padding=(1, 1), bias=False)\n",
              "      (bn2): BatchNorm2d(256, eps=1e-05, momentum=0.1, affine=True, track_running_stats=True)\n",
              "      (shortcut): Sequential(\n",
              "        (0): Conv2d(128, 256, kernel_size=(1, 1), stride=(2, 2), bias=False)\n",
              "        (1): BatchNorm2d(256, eps=1e-05, momentum=0.1, affine=True, track_running_stats=True)\n",
              "      )\n",
              "    )\n",
              "    (1): BasicBlock(\n",
              "      (conv1): Conv2d(256, 256, kernel_size=(3, 3), stride=(1, 1), padding=(1, 1), bias=False)\n",
              "      (bn1): BatchNorm2d(256, eps=1e-05, momentum=0.1, affine=True, track_running_stats=True)\n",
              "      (conv2): Conv2d(256, 256, kernel_size=(3, 3), stride=(1, 1), padding=(1, 1), bias=False)\n",
              "      (bn2): BatchNorm2d(256, eps=1e-05, momentum=0.1, affine=True, track_running_stats=True)\n",
              "      (shortcut): Sequential()\n",
              "    )\n",
              "  )\n",
              "  (layer4): Sequential(\n",
              "    (0): BasicBlock(\n",
              "      (conv1): Conv2d(256, 512, kernel_size=(3, 3), stride=(2, 2), padding=(1, 1), bias=False)\n",
              "      (bn1): BatchNorm2d(512, eps=1e-05, momentum=0.1, affine=True, track_running_stats=True)\n",
              "      (conv2): Conv2d(512, 512, kernel_size=(3, 3), stride=(1, 1), padding=(1, 1), bias=False)\n",
              "      (bn2): BatchNorm2d(512, eps=1e-05, momentum=0.1, affine=True, track_running_stats=True)\n",
              "      (shortcut): Sequential(\n",
              "        (0): Conv2d(256, 512, kernel_size=(1, 1), stride=(2, 2), bias=False)\n",
              "        (1): BatchNorm2d(512, eps=1e-05, momentum=0.1, affine=True, track_running_stats=True)\n",
              "      )\n",
              "    )\n",
              "    (1): BasicBlock(\n",
              "      (conv1): Conv2d(512, 512, kernel_size=(3, 3), stride=(1, 1), padding=(1, 1), bias=False)\n",
              "      (bn1): BatchNorm2d(512, eps=1e-05, momentum=0.1, affine=True, track_running_stats=True)\n",
              "      (conv2): Conv2d(512, 512, kernel_size=(3, 3), stride=(1, 1), padding=(1, 1), bias=False)\n",
              "      (bn2): BatchNorm2d(512, eps=1e-05, momentum=0.1, affine=True, track_running_stats=True)\n",
              "      (shortcut): Sequential()\n",
              "    )\n",
              "  )\n",
              "  (linear): Linear(in_features=512, out_features=1, bias=True)\n",
              ")"
            ]
          },
          "metadata": {},
          "execution_count": 13
        }
      ]
    },
    {
      "cell_type": "code",
      "source": [
        "optimizer = torch.optim.Adam(model.parameters(), lr=0.001, weight_decay=0)\n",
        "epochs = 200\n",
        "train_loader = DataLoader(trainset, batch_size=128, shuffle=False, num_workers=4)\n",
        "test_loader = DataLoader(testset, batch_size=128, shuffle=False, num_workers=4)\n"
      ],
      "metadata": {
        "colab": {
          "base_uri": "https://localhost:8080/"
        },
        "id": "6PMCyGEqL7JG",
        "outputId": "f879844f-911b-472c-8644-3b203ce1b703"
      },
      "execution_count": null,
      "outputs": [
        {
          "output_type": "stream",
          "name": "stderr",
          "text": [
            "/usr/local/lib/python3.10/dist-packages/torch/utils/data/dataloader.py:557: UserWarning: This DataLoader will create 4 worker processes in total. Our suggested max number of worker in current system is 2, which is smaller than what this DataLoader is going to create. Please be aware that excessive worker creation might get DataLoader running slow or even freeze, lower the worker number to avoid potential slowness/freeze if necessary.\n",
            "  warnings.warn(_create_warning_msg(\n"
          ]
        }
      ]
    },
    {
      "cell_type": "code",
      "source": [
        "loss_all = []\n",
        "def train(model, train_loader, optimizer, epochs):\n",
        "    loss_func = nn.L1Loss()\n",
        "    for epoch in range(epochs):\n",
        "        model.train()\n",
        "        running_loss, n_batches = 0.0, 0\n",
        "\n",
        "        for idx, (images, labels) in enumerate(train_loader):\n",
        "            images, labels = images.to('cuda'), labels.to('cuda')\n",
        "            outputs = model(images)\n",
        "            # print('the pred is',outputs, labels)\n",
        "            loss = loss_func(outputs, labels.float().view(-1,1))  # Ensure labels are float\n",
        "\n",
        "            # print('the avg loss for one img is', loss/32)\n",
        "\n",
        "            optimizer.zero_grad()\n",
        "            loss.backward()\n",
        "            optimizer.step()\n",
        "\n",
        "            running_loss += loss.item()\n",
        "            n_batches += 1\n",
        "\n",
        "        loss = running_loss / n_batches\n",
        "        loss_all.append(loss)\n",
        "        print('Epoch %d training loss: %.3f' % (epoch, loss))\n",
        "\n",
        "\n",
        "def test(model, test_loader):\n",
        "    model.eval()\n",
        "    test_loss = 0\n",
        "    total_samples = 0\n",
        "\n",
        "    with torch.no_grad():\n",
        "        for images, labels in test_loader:\n",
        "            images, labels = images.to('cuda'), labels.to('cuda')\n",
        "            outputs = model(images).view(-1, 1)  # Reshape the outputs tensor\n",
        "            loss = nn.L1Loss()(outputs, labels.float().view(-1, 1))\n",
        "            test_loss += loss.item() * images.size(0)\n",
        "            total_samples += images.size(0)\n",
        "\n",
        "    mean_loss = test_loss / total_samples\n",
        "    print('Average Error of the network on the test set: %.2f' % (mean_loss))\n",
        "    return mean_loss\n",
        "\n",
        "\n"
      ],
      "metadata": {
        "id": "72XD45uazF-W"
      },
      "execution_count": null,
      "outputs": []
    },
    {
      "cell_type": "code",
      "source": [
        "train(model, train_loader, optimizer, epochs)"
      ],
      "metadata": {
        "id": "reQuVlgwzGPf",
        "colab": {
          "base_uri": "https://localhost:8080/"
        },
        "outputId": "30462f6f-cc55-48f6-e5a9-19a6c483a5a1"
      },
      "execution_count": null,
      "outputs": [
        {
          "output_type": "stream",
          "name": "stdout",
          "text": [
            "Epoch 0 training loss: 193.842\n",
            "Epoch 1 training loss: 190.324\n",
            "Epoch 2 training loss: 187.437\n",
            "Epoch 3 training loss: 185.554\n",
            "Epoch 4 training loss: 184.008\n",
            "Epoch 5 training loss: 182.548\n",
            "Epoch 6 training loss: 181.150\n",
            "Epoch 7 training loss: 179.918\n",
            "Epoch 8 training loss: 178.858\n",
            "Epoch 9 training loss: 177.668\n",
            "Epoch 10 training loss: 176.524\n",
            "Epoch 11 training loss: 175.403\n",
            "Epoch 12 training loss: 174.320\n",
            "Epoch 13 training loss: 173.156\n",
            "Epoch 14 training loss: 172.053\n",
            "Epoch 15 training loss: 170.917\n",
            "Epoch 16 training loss: 169.837\n",
            "Epoch 17 training loss: 168.793\n",
            "Epoch 18 training loss: 167.760\n",
            "Epoch 19 training loss: 166.733\n",
            "Epoch 20 training loss: 165.708\n",
            "Epoch 21 training loss: 164.648\n",
            "Epoch 22 training loss: 163.606\n",
            "Epoch 23 training loss: 162.561\n",
            "Epoch 24 training loss: 161.547\n",
            "Epoch 25 training loss: 160.449\n",
            "Epoch 26 training loss: 159.321\n",
            "Epoch 27 training loss: 158.466\n",
            "Epoch 28 training loss: 157.595\n",
            "Epoch 29 training loss: 156.501\n",
            "Epoch 30 training loss: 155.662\n",
            "Epoch 31 training loss: 154.256\n",
            "Epoch 32 training loss: 153.077\n",
            "Epoch 33 training loss: 151.944\n",
            "Epoch 34 training loss: 150.584\n",
            "Epoch 35 training loss: 149.397\n",
            "Epoch 36 training loss: 148.781\n",
            "Epoch 37 training loss: 148.410\n",
            "Epoch 38 training loss: 146.691\n",
            "Epoch 39 training loss: 145.009\n",
            "Epoch 40 training loss: 143.951\n",
            "Epoch 41 training loss: 143.073\n",
            "Epoch 42 training loss: 142.447\n",
            "Epoch 43 training loss: 140.887\n",
            "Epoch 44 training loss: 141.011\n",
            "Epoch 45 training loss: 138.730\n",
            "Epoch 46 training loss: 138.796\n",
            "Epoch 47 training loss: 137.264\n",
            "Epoch 48 training loss: 136.685\n",
            "Epoch 49 training loss: 135.584\n",
            "Epoch 50 training loss: 136.054\n",
            "Epoch 51 training loss: 135.710\n",
            "Epoch 52 training loss: 135.557\n",
            "Epoch 53 training loss: 133.825\n",
            "Epoch 54 training loss: 134.195\n",
            "Epoch 55 training loss: 132.901\n",
            "Epoch 56 training loss: 133.214\n",
            "Epoch 57 training loss: 131.907\n",
            "Epoch 58 training loss: 130.663\n",
            "Epoch 59 training loss: 130.265\n",
            "Epoch 60 training loss: 129.805\n",
            "Epoch 61 training loss: 128.146\n",
            "Epoch 62 training loss: 127.998\n",
            "Epoch 63 training loss: 127.422\n",
            "Epoch 64 training loss: 127.565\n",
            "Epoch 65 training loss: 127.838\n",
            "Epoch 66 training loss: 125.308\n",
            "Epoch 67 training loss: 125.420\n",
            "Epoch 68 training loss: 127.342\n",
            "Epoch 69 training loss: 126.883\n",
            "Epoch 70 training loss: 124.365\n",
            "Epoch 71 training loss: 122.473\n",
            "Epoch 72 training loss: 125.547\n",
            "Epoch 73 training loss: 122.831\n",
            "Epoch 74 training loss: 123.389\n",
            "Epoch 75 training loss: 121.050\n",
            "Epoch 76 training loss: 119.461\n",
            "Epoch 77 training loss: 118.811\n",
            "Epoch 78 training loss: 118.597\n",
            "Epoch 79 training loss: 122.245\n",
            "Epoch 80 training loss: 121.629\n",
            "Epoch 81 training loss: 118.828\n",
            "Epoch 82 training loss: 119.382\n",
            "Epoch 83 training loss: 118.471\n",
            "Epoch 84 training loss: 114.810\n",
            "Epoch 85 training loss: 116.103\n",
            "Epoch 86 training loss: 115.200\n",
            "Epoch 87 training loss: 113.142\n",
            "Epoch 88 training loss: 116.166\n",
            "Epoch 89 training loss: 112.587\n",
            "Epoch 90 training loss: 110.233\n",
            "Epoch 91 training loss: 109.270\n",
            "Epoch 92 training loss: 107.805\n",
            "Epoch 93 training loss: 108.144\n",
            "Epoch 94 training loss: 108.886\n",
            "Epoch 95 training loss: 106.460\n",
            "Epoch 96 training loss: 106.641\n",
            "Epoch 97 training loss: 102.212\n",
            "Epoch 98 training loss: 99.660\n",
            "Epoch 99 training loss: 101.426\n",
            "Epoch 100 training loss: 95.189\n",
            "Epoch 101 training loss: 94.697\n",
            "Epoch 102 training loss: 94.415\n",
            "Epoch 103 training loss: 92.863\n",
            "Epoch 104 training loss: 92.167\n",
            "Epoch 105 training loss: 90.759\n",
            "Epoch 106 training loss: 92.365\n",
            "Epoch 107 training loss: 93.031\n",
            "Epoch 108 training loss: 87.826\n",
            "Epoch 109 training loss: 84.556\n",
            "Epoch 110 training loss: 82.816\n",
            "Epoch 111 training loss: 82.889\n",
            "Epoch 112 training loss: 82.862\n",
            "Epoch 113 training loss: 80.701\n",
            "Epoch 114 training loss: 77.524\n",
            "Epoch 115 training loss: 76.219\n",
            "Epoch 116 training loss: 72.296\n",
            "Epoch 117 training loss: 77.111\n",
            "Epoch 118 training loss: 72.868\n",
            "Epoch 119 training loss: 72.107\n",
            "Epoch 120 training loss: 68.745\n",
            "Epoch 121 training loss: 68.609\n",
            "Epoch 122 training loss: 65.098\n",
            "Epoch 123 training loss: 67.113\n",
            "Epoch 124 training loss: 65.092\n",
            "Epoch 125 training loss: 65.953\n",
            "Epoch 126 training loss: 61.655\n",
            "Epoch 127 training loss: 64.374\n",
            "Epoch 128 training loss: 63.117\n",
            "Epoch 129 training loss: 58.000\n",
            "Epoch 130 training loss: 64.005\n",
            "Epoch 131 training loss: 66.948\n",
            "Epoch 132 training loss: 58.397\n",
            "Epoch 133 training loss: 63.700\n",
            "Epoch 134 training loss: 60.338\n",
            "Epoch 135 training loss: 59.710\n",
            "Epoch 136 training loss: 56.735\n",
            "Epoch 137 training loss: 53.610\n",
            "Epoch 138 training loss: 54.649\n",
            "Epoch 139 training loss: 51.723\n",
            "Epoch 140 training loss: 55.292\n",
            "Epoch 141 training loss: 44.834\n",
            "Epoch 142 training loss: 50.330\n",
            "Epoch 143 training loss: 50.191\n",
            "Epoch 144 training loss: 42.761\n",
            "Epoch 145 training loss: 47.616\n",
            "Epoch 146 training loss: 42.452\n",
            "Epoch 147 training loss: 42.420\n",
            "Epoch 148 training loss: 43.285\n",
            "Epoch 149 training loss: 48.121\n",
            "Epoch 150 training loss: 42.337\n",
            "Epoch 151 training loss: 37.424\n",
            "Epoch 152 training loss: 40.425\n",
            "Epoch 153 training loss: 42.317\n",
            "Epoch 154 training loss: 39.601\n",
            "Epoch 155 training loss: 41.027\n",
            "Epoch 156 training loss: 42.268\n",
            "Epoch 157 training loss: 40.596\n",
            "Epoch 158 training loss: 43.165\n",
            "Epoch 159 training loss: 50.111\n",
            "Epoch 160 training loss: 51.118\n",
            "Epoch 161 training loss: 37.892\n",
            "Epoch 162 training loss: 44.410\n",
            "Epoch 163 training loss: 42.996\n",
            "Epoch 164 training loss: 38.357\n",
            "Epoch 165 training loss: 38.060\n",
            "Epoch 166 training loss: 36.154\n",
            "Epoch 167 training loss: 34.379\n",
            "Epoch 168 training loss: 36.421\n",
            "Epoch 169 training loss: 35.600\n",
            "Epoch 170 training loss: 31.739\n",
            "Epoch 171 training loss: 30.637\n",
            "Epoch 172 training loss: 31.406\n",
            "Epoch 173 training loss: 30.786\n",
            "Epoch 174 training loss: 31.738\n",
            "Epoch 175 training loss: 31.452\n",
            "Epoch 176 training loss: 31.088\n",
            "Epoch 177 training loss: 28.757\n",
            "Epoch 178 training loss: 29.991\n",
            "Epoch 179 training loss: 33.267\n",
            "Epoch 180 training loss: 30.206\n",
            "Epoch 181 training loss: 30.674\n",
            "Epoch 182 training loss: 31.182\n",
            "Epoch 183 training loss: 25.218\n",
            "Epoch 184 training loss: 22.938\n",
            "Epoch 185 training loss: 22.693\n",
            "Epoch 186 training loss: 29.387\n",
            "Epoch 187 training loss: 24.142\n",
            "Epoch 188 training loss: 26.570\n",
            "Epoch 189 training loss: 25.282\n",
            "Epoch 190 training loss: 23.999\n",
            "Epoch 191 training loss: 22.565\n",
            "Epoch 192 training loss: 22.286\n",
            "Epoch 193 training loss: 19.106\n",
            "Epoch 194 training loss: 22.271\n",
            "Epoch 195 training loss: 20.534\n",
            "Epoch 196 training loss: 17.553\n",
            "Epoch 197 training loss: 19.195\n",
            "Epoch 198 training loss: 17.407\n",
            "Epoch 199 training loss: 16.270\n"
          ]
        }
      ]
    },
    {
      "cell_type": "code",
      "source": [
        "test(model, test_loader)"
      ],
      "metadata": {
        "id": "7ppZuxWozGSQ",
        "colab": {
          "base_uri": "https://localhost:8080/"
        },
        "outputId": "67c01775-1928-40b5-b62a-ad0e65439f7f"
      },
      "execution_count": null,
      "outputs": [
        {
          "output_type": "stream",
          "name": "stdout",
          "text": [
            "Average Error of the network on the test set: 187.64\n"
          ]
        },
        {
          "output_type": "execute_result",
          "data": {
            "text/plain": [
              "187.6371307373047"
            ]
          },
          "metadata": {},
          "execution_count": 18
        }
      ]
    },
    {
      "cell_type": "code",
      "source": [
        "loss_total = loss_all[:]\n",
        "import matplotlib.pyplot as plt\n",
        "\n",
        "\n",
        "x = list(range(1, 201))\n",
        "\n",
        "plt.rcParams['figure.figsize'] = [9, 5.5]\n",
        "fig, ax = plt.subplots()\n",
        "\n",
        "ax.plot(x,loss_total, color ='#9A32CD', marker='^', linestyle='-', linewidth=3, markersize=8, fillstyle='none', label='Prediction')\n",
        "\n",
        "\n",
        "ax.set_ylabel(\"Training loss\", fontsize=25)\n",
        "ax.set_xlabel('Epochs', fontsize=25)\n",
        "\n",
        "ax.set_xticks([0,50,100,150,200])\n",
        "ax.set_xticklabels(['0', '50', '100', '150', '200'], fontsize=18)\n",
        "\n",
        "\n",
        "ax.legend(loc=1, prop={'size': 20})\n",
        "\n",
        "ax.grid(True, linestyle='--', alpha=0.6)  # add gridlines\n",
        "\n",
        "plt.tight_layout()\n",
        "plt.savefig('ABL.pdf', dpi=300)\n",
        "plt.show()\n"
      ],
      "metadata": {
        "id": "eN9LUgq33gCn",
        "colab": {
          "base_uri": "https://localhost:8080/",
          "height": 557
        },
        "outputId": "30c8826b-0806-41d3-9be0-c794eec262d4"
      },
      "execution_count": null,
      "outputs": [
        {
          "output_type": "display_data",
          "data": {
            "text/plain": [
              "<Figure size 900x550 with 1 Axes>"
            ],
            "image/png": "[encoded data removed]"
          },
          "metadata": {}
        }
      ]
    },
    {
      "cell_type": "code",
      "source": [
        "\n",
        "\n",
        "class SuperCellDataset(Dataset):\n",
        "    def __init__(self, root_dir, label_path, transform=None):\n",
        "        self.root_dir = root_dir\n",
        "        self.label_path = label_path\n",
        "        self.image_files = [f for f in os.listdir(root_dir) if f.endswith('.tiff')]\n",
        "        self.transform = transform\n",
        "\n",
        "    def __len__(self):\n",
        "        return len(self.image_files)\n",
        "\n",
        "    def __getitem__(self, idx):\n",
        "        # 1. Load image\n",
        "        img_name = os.path.join(self.root_dir, self.image_files[idx])\n",
        "        image = Image.open(img_name)\n",
        "\n",
        "        # 2. Randomly sample a 200x200 patch from the original image\n",
        "        w, h = image.size\n",
        "        left = np.random.randint(0, w - 200)\n",
        "        upper = np.random.randint(0, h - 200)\n",
        "        right = left + 200\n",
        "        lower = upper + 200\n",
        "\n",
        "        image = image.crop((left, upper, right, lower))\n",
        "\n",
        "        # 3. Fetch corresponding csv\n",
        "        csv_file = self.image_files[idx].replace('.tiff', '.csv')\n",
        "        csv_path = os.path.join(self.label_path, csv_file)\n",
        "        df = pd.read_csv(csv_path)\n",
        "\n",
        "        # 4. Check how many cells are within the 200x200 patch\n",
        "        num_cells = df[(df['X'] >= left) & (df['X'] <= right) &\n",
        "                       (df['Y'] >= upper) & (df['Y'] <= lower)].shape[0]\n",
        "\n",
        "        if self.transform:\n",
        "            image = self.transform(image)\n",
        "\n",
        "        return image, num_cells\n",
        "\n",
        "# example\n",
        "data_root = '/content/drive/MyDrive/CellCounts/IDCIA v2/images'\n",
        "label_path = '/content/drive/MyDrive/CellCounts/IDCIA v2/ground_truth'\n",
        "\n",
        "# construct patched dataset\n",
        "superset = SuperCellDataset(data_root, label_path, transform=transform)\n",
        "\n",
        "# get a single item\n",
        "image, num_cells = superset[5]\n",
        "print(\"Number of cells:\", num_cells)\n"
      ],
      "metadata": {
        "colab": {
          "base_uri": "https://localhost:8080/"
        },
        "id": "Tnwh-yDMbdjh",
        "outputId": "24d78fca-7b56-4045-f7d8-eef1c229729c"
      },
      "execution_count": null,
      "outputs": [
        {
          "output_type": "stream",
          "name": "stdout",
          "text": [
            "Number of cells: 48\n"
          ]
        }
      ]
    },
    {
      "cell_type": "code",
      "source": [
        "image"
      ],
      "metadata": {
        "colab": {
          "base_uri": "https://localhost:8080/"
        },
        "id": "vJKB-H60aPlG",
        "outputId": "7aab2ab7-31a7-45d1-d7da-175ba4908c0f"
      },
      "execution_count": null,
      "outputs": [
        {
          "output_type": "execute_result",
          "data": {
            "text/plain": [
              "tensor([[[0.1451, 0.0824, 0.0549,  ..., 0.0431, 0.0431, 0.0392],\n",
              "         [0.1255, 0.0745, 0.0510,  ..., 0.0431, 0.0431, 0.0392],\n",
              "         [0.0902, 0.0588, 0.0510,  ..., 0.0431, 0.0431, 0.0392],\n",
              "         ...,\n",
              "         [0.0431, 0.0392, 0.0392,  ..., 0.1725, 0.1882, 0.2000],\n",
              "         [0.0392, 0.0392, 0.0392,  ..., 0.1569, 0.1647, 0.1882],\n",
              "         [0.0392, 0.0392, 0.0353,  ..., 0.1490, 0.1647, 0.2039]]])"
            ]
          },
          "metadata": {},
          "execution_count": 21
        }
      ]
    },
    {
      "cell_type": "code",
      "source": [
        "plt.imshow(image.numpy().transpose(1, 2, 0))\n",
        "plt.show()\n"
      ],
      "metadata": {
        "colab": {
          "base_uri": "https://localhost:8080/",
          "height": 433
        },
        "id": "eXZnoWG7WcBI",
        "outputId": "43b248f3-7bce-405a-9395-58a52631f954"
      },
      "execution_count": null,
      "outputs": [
        {
          "output_type": "display_data",
          "data": {
            "text/plain": [
              "<Figure size 640x480 with 1 Axes>"
            ],
            "image/png": "[encoded data removed]"
          },
          "metadata": {}
        }
      ]
    },
    {
      "cell_type": "code",
      "source": [
        "plot_cell(superset,3)"
      ],
      "metadata": {
        "colab": {
          "base_uri": "https://localhost:8080/",
          "height": 406
        },
        "id": "mgzy4W51WNvQ",
        "outputId": "4e170160-7e8c-4d3e-f2fd-0b7c03de1247"
      },
      "execution_count": null,
      "outputs": [
        {
          "output_type": "display_data",
          "data": {
            "text/plain": [
              "<Figure size 640x480 with 1 Axes>"
            ],
            "image/png": "[encoded data removed]"
          },
          "metadata": {}
        }
      ]
    },
    {
      "cell_type": "code",
      "source": [
        "num_cells"
      ],
      "metadata": {
        "colab": {
          "base_uri": "https://localhost:8080/"
        },
        "id": "8ly9s4zrWX_C",
        "outputId": "6deb4ea4-dbe1-4f0a-e0a6-d174974a29c4"
      },
      "execution_count": null,
      "outputs": [
        {
          "output_type": "execute_result",
          "data": {
            "text/plain": [
              "48"
            ]
          },
          "metadata": {},
          "execution_count": 24
        }
      ]
    },
    {
      "cell_type": "code",
      "source": [],
      "metadata": {
        "id": "Z9aohziIYeBJ"
      },
      "execution_count": null,
      "outputs": []
    }
  ]
}